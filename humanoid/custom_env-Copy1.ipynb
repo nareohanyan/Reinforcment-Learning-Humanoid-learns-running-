{
 "cells": [
  {
   "cell_type": "code",
   "execution_count": 2,
   "id": "ec0b2703-e0be-4d87-9ffc-370a28485ab5",
   "metadata": {},
   "outputs": [],
   "source": [
    "#SAC_3 custom env healthy reward 7 ,rewards = healthy_reward - forward_reward"
   ]
  },
  {
   "cell_type": "code",
   "execution_count": 3,
   "id": "8fc02f4a-517a-4743-b186-b9affb37a475",
   "metadata": {},
   "outputs": [],
   "source": [
    "import sys\n",
    "sys.path.insert(0, \"/home/vardan/anaconda3/envs/pytorch/projects/git_humanoid/humanoid/GYM_git\")\n"
   ]
  },
  {
   "cell_type": "code",
   "execution_count": 4,
   "id": "ce26342e-3bdd-43af-afe1-2ef600178a67",
   "metadata": {},
   "outputs": [
    {
     "name": "stdout",
     "output_type": "stream",
     "text": [
      "/home/vardan/anaconda3/envs/pytorch/projects/git_humanoid/humanoid/GYM_git/gymnasium/__init__.py\n"
     ]
    }
   ],
   "source": [
    "import gymnasium\n",
    "print(gymnasium.__file__)\n"
   ]
  },
  {
   "cell_type": "code",
   "execution_count": 5,
   "id": "1b9cd15f-6662-4802-96be-1ab6b923c33a",
   "metadata": {},
   "outputs": [],
   "source": [
    "from gymnasium.envs.registration import register\n",
    "\n",
    "register(\n",
    "    id=\"HumanoidV5Custom-v2\",\n",
    "    entry_point=\"gymnasium.envs.custom_envs.humanoid_v5_custom_v2:HumanoidEnv\",\n",
    "    max_episode_steps=1000,\n",
    ")\n"
   ]
  },
  {
   "cell_type": "code",
   "execution_count": 6,
   "id": "6c0cd1aa-c05a-4593-b9a3-0209233310ed",
   "metadata": {},
   "outputs": [],
   "source": [
    "import gymnasium.envs.custom_envs.humanoid_v5_custom  # This triggers the register()\n",
    "env = gymnasium.make(\"HumanoidV5Custom-v2\", render_mode=None)\n"
   ]
  },
  {
   "cell_type": "code",
   "execution_count": 7,
   "id": "38bcbcbe-292b-4a7b-99d8-7ff0b9af6b20",
   "metadata": {},
   "outputs": [
    {
     "name": "stdout",
     "output_type": "stream",
     "text": [
      "6.916843873452335\n",
      "6.917174391179784\n",
      "6.92047443266047\n",
      "6.911549024978786\n",
      "6.885356621096631\n",
      "6.920909789086855\n",
      "6.904042773057059\n",
      "6.888851107458818\n",
      "6.218591410553317\n",
      "6.817401257611706\n",
      "6.834237424594611\n",
      "6.940391723262034\n",
      "5.667354606174101\n",
      "6.8272452156738295\n",
      "6.86491685057686\n",
      "6.909824254214702\n",
      "6.90884427586964\n",
      "6.896548440157048\n",
      "6.9406559291229915\n",
      "6.918681592928898\n",
      "6.8465544093260915\n",
      "-0.1139195443103108\n"
     ]
    }
   ],
   "source": [
    "obs, _ = env.reset()\n",
    "done = False\n",
    "\n",
    "while not done:\n",
    "    action = env.action_space.sample()\n",
    "    obs, reward, terminated, truncated, info = env.step(action)\n",
    "    print(reward)\n",
    "    done = terminated or truncated\n",
    "\n",
    "env.close()\n"
   ]
  },
  {
   "cell_type": "code",
   "execution_count": 8,
   "id": "bd982f92-e08b-4bd0-a489-54fbc41e6598",
   "metadata": {},
   "outputs": [
    {
     "name": "stderr",
     "output_type": "stream",
     "text": [
      "2025-05-03 22:42:45.627830: I tensorflow/core/platform/cpu_feature_guard.cc:210] This TensorFlow binary is optimized to use available CPU instructions in performance-critical operations.\n",
      "To enable the following instructions: SSE3 SSE4.1 SSE4.2 AVX AVX2 FMA, in other operations, rebuild TensorFlow with the appropriate compiler flags.\n"
     ]
    }
   ],
   "source": [
    "from stable_baselines3 import SAC, TD3, A2C\n",
    "import os\n",
    "import argparse\n",
    "from stable_baselines3.common.noise import NormalActionNoise\n",
    "import numpy as np"
   ]
  },
  {
   "cell_type": "code",
   "execution_count": 9,
   "id": "c778e21a-072b-41bb-82cb-05a25b01ae09",
   "metadata": {},
   "outputs": [],
   "source": [
    "\n",
    "\n",
    "# Create base directories\n",
    "model_base_dir = \"models\"\n",
    "log_base_dir = \"logs\"\n",
    "os.makedirs(model_base_dir, exist_ok=True)\n",
    "os.makedirs(log_base_dir, exist_ok=True)\n",
    "\n",
    "name = \"SAC_\"\n",
    "\n",
    "# Find next available index\n",
    "existing_dirs = [d for d in os.listdir(log_base_dir) if d.startswith(name) and d[4:].isdigit()]\n",
    "next_index = max([int(d[4:]) for d in existing_dirs], default=-1) + 1\n",
    "\n",
    "# Create log and model directories with same name\n",
    "log_dir = os.path.join(log_base_dir, f\"{name}{next_index}\")\n",
    "model_dir = os.path.join(model_base_dir, f\"{name}{next_index}\")\n",
    "os.makedirs(log_dir, exist_ok=True)\n",
    "os.makedirs(model_dir, exist_ok=True)\n",
    "\n",
    "def train(model, timesteps):\n",
    "    iters = 0\n",
    "    while True:\n",
    "        iters += 1\n",
    "        model.learn(total_timesteps=timesteps, reset_num_timesteps=False)\n",
    "        # Save to models/SAC_X/\n",
    "        model.save(f\"{model_dir}/model_{model.num_timesteps}\")\n",
    "    return model\n",
    "# def train(model, timesteps, ):\n",
    "\n",
    "    \n",
    "\n",
    "#     iters = 0\n",
    "#     while True:\n",
    "#         iters += 1\n",
    "#         model.learn(total_timesteps=timesteps, reset_num_timesteps=False)\n",
    "#         model.save(f\"{model_dir}{name}{next_index}{model.num_timesteps - model.num_timesteps % 1000}\")\n",
    "#     return model\n",
    "\n",
    "\n",
    "\n"
   ]
  },
  {
   "cell_type": "code",
   "execution_count": 10,
   "id": "a79cd43a-041d-443f-b750-59ae3368060f",
   "metadata": {},
   "outputs": [],
   "source": [
    "# action_noise = NormalActionNoise(mean=np.zeros(env.action_space.shape), \n",
    "#                                  sigma=0.15 * np.ones(env.action_space.shape))\n",
    "# # model = SAC('MlpPolicy', env, verbose=1, device='cuda', tensorboard_log=log_dir)\n",
    "# model = SAC(\n",
    "#     \"MlpPolicy\",\n",
    "#     env,\n",
    "#     verbose=1,\n",
    "#     device=\"cuda\",\n",
    "#     tensorboard_log=log_dir,\n",
    "#     learning_rate=0.0004,        # Default, but can be reduced for more exploration\n",
    "#     batch_size=512,              # Increase batch size for stability\n",
    "#     tau=0.004,                   # Lower tau to slow down target updates\n",
    "#     gamma=0.98,                  # Slightly reduce gamma to value short-term rewards more\n",
    "#     ent_coef=0.06,               # Encourage more entropy (more randomness)\n",
    "#     target_update_interval=2,     # Update targets slightly less frequently\n",
    "#     action_noise=action_noise,     # Inject additional exploration noise\n",
    "# )"
   ]
  },
  {
   "cell_type": "code",
   "execution_count": 11,
   "id": "205dc619-7be9-4afa-9bba-73b31e9bf0ab",
   "metadata": {},
   "outputs": [
    {
     "name": "stdout",
     "output_type": "stream",
     "text": [
      "Wrapping the env with a `Monitor` wrapper\n",
      "Wrapping the env in a DummyVecEnv.\n"
     ]
    }
   ],
   "source": [
    "model = SAC.load(\"models/SAC_2/SACv1_962000\", verbose=1, device='cuda', tensorboard_log=log_dir)\n",
    "model.set_env(env)"
   ]
  },
  {
   "cell_type": "code",
   "execution_count": null,
   "id": "78be9a10-c298-441b-aa87-4b00b291dc22",
   "metadata": {},
   "outputs": [
    {
     "name": "stdout",
     "output_type": "stream",
     "text": [
      "Logging to logs/SAC_5/SAC_0\n"
     ]
    },
    {
     "name": "stderr",
     "output_type": "stream",
     "text": [
      "/home/vardan/anaconda3/envs/pytorch/lib/python3.10/site-packages/torch/nn/modules/linear.py:125: UserWarning: Attempting to use hipBLASLt on an unsupported architecture! Overriding blas backend to hipblas (Triggered internally at /pytorch/aten/src/ATen/Context.cpp:310.)\n",
      "  return F.linear(input, self.weight, self.bias)\n"
     ]
    },
    {
     "name": "stdout",
     "output_type": "stream",
     "text": [
      "---------------------------------\n",
      "| rollout/           |          |\n",
      "|    ep_len_mean     | 930      |\n",
      "|    ep_rew_mean     | 5.75e+03 |\n",
      "| time/              |          |\n",
      "|    episodes        | 2792     |\n",
      "|    fps             | 34       |\n",
      "|    time_elapsed    | 26       |\n",
      "|    total_timesteps | 963266   |\n",
      "| train/             |          |\n",
      "|    actor_loss      | -290     |\n",
      "|    critic_loss     | 4.44     |\n",
      "|    ent_coef        | 0.05     |\n",
      "|    learning_rate   | 0.0003   |\n",
      "|    n_updates       | 963164   |\n",
      "---------------------------------\n",
      "---------------------------------\n",
      "| rollout/           |          |\n",
      "|    ep_len_mean     | 902      |\n",
      "|    ep_rew_mean     | 5.58e+03 |\n",
      "| time/              |          |\n",
      "|    episodes        | 2796     |\n",
      "|    fps             | 34       |\n",
      "|    time_elapsed    | 46       |\n",
      "|    total_timesteps | 963919   |\n",
      "| train/             |          |\n",
      "|    actor_loss      | -277     |\n",
      "|    critic_loss     | 11.3     |\n",
      "|    ent_coef        | 0.05     |\n",
      "|    learning_rate   | 0.0003   |\n",
      "|    n_updates       | 963817   |\n",
      "---------------------------------\n",
      "---------------------------------\n",
      "| rollout/           |          |\n",
      "|    ep_len_mean     | 868      |\n",
      "|    ep_rew_mean     | 5.37e+03 |\n",
      "| time/              |          |\n",
      "|    episodes        | 2800     |\n",
      "|    fps             | 33       |\n",
      "|    time_elapsed    | 66       |\n",
      "|    total_timesteps | 964571   |\n",
      "| train/             |          |\n",
      "|    actor_loss      | -276     |\n",
      "|    critic_loss     | 9.41     |\n",
      "|    ent_coef        | 0.05     |\n",
      "|    learning_rate   | 0.0003   |\n",
      "|    n_updates       | 964469   |\n",
      "---------------------------------\n",
      "---------------------------------\n",
      "| rollout/           |          |\n",
      "|    ep_len_mean     | 834      |\n",
      "|    ep_rew_mean     | 5.16e+03 |\n",
      "| time/              |          |\n",
      "|    episodes        | 2804     |\n",
      "|    fps             | 33       |\n",
      "|    time_elapsed    | 84       |\n",
      "|    total_timesteps | 965140   |\n",
      "| train/             |          |\n",
      "|    actor_loss      | -277     |\n",
      "|    critic_loss     | 8.84     |\n",
      "|    ent_coef        | 0.05     |\n",
      "|    learning_rate   | 0.0003   |\n",
      "|    n_updates       | 965038   |\n",
      "---------------------------------\n",
      "---------------------------------\n",
      "| rollout/           |          |\n",
      "|    ep_len_mean     | 802      |\n",
      "|    ep_rew_mean     | 4.97e+03 |\n",
      "| time/              |          |\n",
      "|    episodes        | 2808     |\n",
      "|    fps             | 33       |\n",
      "|    time_elapsed    | 109      |\n",
      "|    total_timesteps | 965966   |\n",
      "| train/             |          |\n",
      "|    actor_loss      | -281     |\n",
      "|    critic_loss     | 19.2     |\n",
      "|    ent_coef        | 0.05     |\n",
      "|    learning_rate   | 0.0003   |\n",
      "|    n_updates       | 965864   |\n",
      "---------------------------------\n"
     ]
    }
   ],
   "source": [
    "model = train(model, 20000)"
   ]
  },
  {
   "cell_type": "code",
   "execution_count": null,
   "id": "9439efae-c3ba-4faa-9414-c748fd4769e5",
   "metadata": {},
   "outputs": [],
   "source": []
  }
 ],
 "metadata": {
  "kernelspec": {
   "display_name": "Python (pytorch)",
   "language": "python",
   "name": "pytorch"
  },
  "language_info": {
   "codemirror_mode": {
    "name": "ipython",
    "version": 3
   },
   "file_extension": ".py",
   "mimetype": "text/x-python",
   "name": "python",
   "nbconvert_exporter": "python",
   "pygments_lexer": "ipython3",
   "version": "3.10.16"
  }
 },
 "nbformat": 4,
 "nbformat_minor": 5
}
