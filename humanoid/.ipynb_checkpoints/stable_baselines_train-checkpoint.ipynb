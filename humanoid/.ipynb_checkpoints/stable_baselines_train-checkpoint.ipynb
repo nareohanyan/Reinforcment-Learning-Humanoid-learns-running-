{
 "cells": [
  {
   "cell_type": "code",
   "execution_count": 8,
   "id": "127e347d-a748-40d1-99ac-7ac5178e9033",
   "metadata": {},
   "outputs": [],
   "source": [
    "import gymnasium as gym\n",
    "from stable_baselines3 import SAC, TD3, A2C\n",
    "import os\n",
    "import argparse\n",
    "from stable_baselines3.common.noise import NormalActionNoise\n",
    "import numpy as np"
   ]
  },
  {
   "cell_type": "code",
   "execution_count": 15,
   "id": "41e28239-2918-47fe-91f9-7b9d11f46ea3",
   "metadata": {},
   "outputs": [],
   "source": [
    "\n",
    "\n",
    "# Create directories to hold models and logs\n",
    "model_dir = f\"models1\"\n",
    "log_dir = f\"logs1\"\n",
    "os.makedirs(model_dir, exist_ok=True)\n",
    "os.makedirs(log_dir, exist_ok=True)\n",
    "\n",
    "def train(model, timesteps, ):\n",
    "\n",
    "    \n",
    "\n",
    "    iters = 0\n",
    "    while True:\n",
    "        iters += 1\n",
    "        model.learn(total_timesteps=timesteps, reset_num_timesteps=False)\n",
    "        model.save(f\"{model_dir}/SACv1_{model.num_timesteps - model.num_timesteps % 1000}\")\n",
    "    return model\n",
    "\n",
    "# def test(env, sb3_algo, path_to_model):\n",
    "\n",
    "#     match sb3_algo:\n",
    "#         case 'SAC':\n",
    "#             model = SAC.load(path_to_model, env=env)\n",
    "#         case 'TD3':\n",
    "#             model = TD3.load(path_to_model, env=env)\n",
    "#         case 'A2C':\n",
    "#             model = A2C.load(path_to_model, env=env)\n",
    "#         case _:\n",
    "#             print('Algorithm not found')\n",
    "#             return\n",
    "\n",
    "#     obs = env.reset()[0]\n",
    "#     done = False\n",
    "#     extra_steps = 500\n",
    "#     while True:\n",
    "#         action, _ = model.predict(obs)\n",
    "#         obs, _, done, _, _ = env.step(action)\n",
    "\n",
    "#         if done:\n",
    "#             extra_steps -= 1\n",
    "\n",
    "#             if extra_steps < 0:\n",
    "#                 break\n",
    "\n",
    "    # parser = argparse.ArgumentParser(description='Train or test model.')\n",
    "    # parser.add_argument('gymenv', help='Gymnasium environment i.e. Humanoid-v4')\n",
    "    # parser.add_argument('sb3_algo', help='StableBaseline3 RL algorithm i.e. SAC, TD3')\n",
    "    # parser.add_argument('-t', '--train', action='store_true')\n",
    "    # parser.add_argument('-s', '--test', metavar='path_to_model')\n",
    "    # args = parser.parse_args()\n",
    "\n",
    "\n",
    "\n"
   ]
  },
  {
   "cell_type": "code",
   "execution_count": 16,
   "id": "3d4181f8-e82e-4e77-92f7-8ce3c96e9134",
   "metadata": {
    "scrolled": true
   },
   "outputs": [],
   "source": [
    "env = gym.make(\"Humanoid-v5\", render_mode=None)\n"
   ]
  },
  {
   "cell_type": "code",
   "execution_count": 13,
   "id": "d709f098-8881-45c4-bdaa-efaaa5940b7c",
   "metadata": {},
   "outputs": [
    {
     "name": "stdout",
     "output_type": "stream",
     "text": [
      "Using cuda device\n",
      "Wrapping the env with a `Monitor` wrapper\n",
      "Wrapping the env in a DummyVecEnv.\n"
     ]
    }
   ],
   "source": [
    "action_noise = NormalActionNoise(mean=np.zeros(env.action_space.shape), \n",
    "                                 sigma=0.2 * np.ones(env.action_space.shape))\n",
    "# model = SAC('MlpPolicy', env, verbose=1, device='cuda', tensorboard_log=log_dir)\n",
    "model = SAC(\n",
    "    \"MlpPolicy\",\n",
    "    env,\n",
    "    verbose=1,\n",
    "    device=\"cuda\",\n",
    "    tensorboard_log=log_dir,\n",
    "    learning_rate=0.0003,        # Default, but can be reduced for more exploration\n",
    "    batch_size=512,              # Increase batch size for stability\n",
    "    tau=0.003,                   # Lower tau to slow down target updates\n",
    "    gamma=0.98,                  # Slightly reduce gamma to value short-term rewards more\n",
    "    ent_coef=0.05,               # Encourage more entropy (more randomness)\n",
    "    target_update_interval=2,     # Update targets slightly less frequently\n",
    "    action_noise=action_noise,     # Inject additional exploration noise\n",
    ")"
   ]
  },
  {
   "cell_type": "code",
   "execution_count": 4,
   "id": "d5dde7eb-b817-49af-984a-0ba6ede794c7",
   "metadata": {},
   "outputs": [
    {
     "name": "stdout",
     "output_type": "stream",
     "text": [
      "Wrapping the env with a `Monitor` wrapper\n",
      "Wrapping the env in a DummyVecEnv.\n"
     ]
    }
   ],
   "source": [
    "model = SAC.load(\"models/SAC_736000\", verbose=1, device='cuda', tensorboard_log=log_dir)\n",
    "model.set_env(env)"
   ]
  },
  {
   "cell_type": "code",
   "execution_count": null,
   "id": "5f7d1187-303b-4a4e-8c2a-5d53f1bc3bc1",
   "metadata": {
    "scrolled": true
   },
   "outputs": [
    {
     "name": "stdout",
     "output_type": "stream",
     "text": [
      "Logging to logs/SAC_0\n",
      "---------------------------------\n",
      "| rollout/           |          |\n",
      "|    ep_len_mean     | 27.8     |\n",
      "|    ep_rew_mean     | 127      |\n",
      "| time/              |          |\n",
      "|    episodes        | 176      |\n",
      "|    fps             | 50       |\n",
      "|    time_elapsed    | 1        |\n",
      "|    total_timesteps | 4170     |\n",
      "| train/             |          |\n",
      "|    actor_loss      | -39.8    |\n",
      "|    critic_loss     | 4.1      |\n",
      "|    ent_coef        | 0.05     |\n",
      "|    learning_rate   | 0.0003   |\n",
      "|    n_updates       | 4068     |\n",
      "---------------------------------\n",
      "---------------------------------\n",
      "| rollout/           |          |\n",
      "|    ep_len_mean     | 28.6     |\n",
      "|    ep_rew_mean     | 132      |\n",
      "| time/              |          |\n",
      "|    episodes        | 180      |\n",
      "|    fps             | 49       |\n",
      "|    time_elapsed    | 4        |\n",
      "|    total_timesteps | 4322     |\n",
      "| train/             |          |\n",
      "|    actor_loss      | -41      |\n",
      "|    critic_loss     | 3.05     |\n",
      "|    ent_coef        | 0.05     |\n",
      "|    learning_rate   | 0.0003   |\n",
      "|    n_updates       | 4220     |\n",
      "---------------------------------\n",
      "---------------------------------\n",
      "| rollout/           |          |\n",
      "|    ep_len_mean     | 29.1     |\n",
      "|    ep_rew_mean     | 134      |\n",
      "| time/              |          |\n",
      "|    episodes        | 184      |\n",
      "|    fps             | 52       |\n",
      "|    time_elapsed    | 6        |\n",
      "|    total_timesteps | 4438     |\n",
      "| train/             |          |\n",
      "|    actor_loss      | -42.3    |\n",
      "|    critic_loss     | 3.07     |\n",
      "|    ent_coef        | 0.05     |\n",
      "|    learning_rate   | 0.0003   |\n",
      "|    n_updates       | 4336     |\n",
      "---------------------------------\n",
      "---------------------------------\n",
      "| rollout/           |          |\n",
      "|    ep_len_mean     | 29.8     |\n",
      "|    ep_rew_mean     | 137      |\n",
      "| time/              |          |\n",
      "|    episodes        | 188      |\n",
      "|    fps             | 51       |\n",
      "|    time_elapsed    | 9        |\n",
      "|    total_timesteps | 4573     |\n",
      "| train/             |          |\n",
      "|    actor_loss      | -41.9    |\n",
      "|    critic_loss     | 3.34     |\n",
      "|    ent_coef        | 0.05     |\n",
      "|    learning_rate   | 0.0003   |\n",
      "|    n_updates       | 4471     |\n",
      "---------------------------------\n"
     ]
    }
   ],
   "source": [
    "model = train(model, 5000)"
   ]
  },
  {
   "cell_type": "code",
   "execution_count": 12,
   "id": "0e8145bf-59d7-49cb-bd04-5e3cdf9783b3",
   "metadata": {},
   "outputs": [
    {
     "ename": "NameError",
     "evalue": "name 'model' is not defined",
     "output_type": "error",
     "traceback": [
      "\u001b[0;31m---------------------------------------------------------------------------\u001b[0m",
      "\u001b[0;31mNameError\u001b[0m                                 Traceback (most recent call last)",
      "Cell \u001b[0;32mIn[12], line 1\u001b[0m\n\u001b[0;32m----> 1\u001b[0m \u001b[43mmodel\u001b[49m\u001b[38;5;241m.\u001b[39msave(\u001b[38;5;124m\"\u001b[39m\u001b[38;5;124mmodels/SAC_1\u001b[39m\u001b[38;5;124m\"\u001b[39m)\n",
      "\u001b[0;31mNameError\u001b[0m: name 'model' is not defined"
     ]
    }
   ],
   "source": [
    "model.save(\"models/SAC_1\")"
   ]
  },
  {
   "cell_type": "code",
   "execution_count": null,
   "id": "9ef8fc4d-3296-4b44-aed7-8952d7671ea5",
   "metadata": {},
   "outputs": [],
   "source": []
  }
 ],
 "metadata": {
  "kernelspec": {
   "display_name": "Python (pytorch)",
   "language": "python",
   "name": "pytorch"
  },
  "language_info": {
   "codemirror_mode": {
    "name": "ipython",
    "version": 3
   },
   "file_extension": ".py",
   "mimetype": "text/x-python",
   "name": "python",
   "nbconvert_exporter": "python",
   "pygments_lexer": "ipython3",
   "version": "3.10.16"
  }
 },
 "nbformat": 4,
 "nbformat_minor": 5
}
